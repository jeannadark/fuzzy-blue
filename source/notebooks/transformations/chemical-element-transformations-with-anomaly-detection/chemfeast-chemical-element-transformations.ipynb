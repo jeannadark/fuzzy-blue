{
 "cells": [
  {
   "cell_type": "markdown",
   "id": "ec1341c6",
   "metadata": {
    "papermill": {
     "duration": 0.031184,
     "end_time": "2022-01-18T19:32:31.224463",
     "exception": false,
     "start_time": "2022-01-18T19:32:31.193279",
     "status": "completed"
    },
    "tags": []
   },
   "source": [
    "# CSCI 6998 Master's Thesis\n",
    "## Chemical Element Transformations\n",
    "#### Narmin Jamalova, MSCSDA 2022\n"
   ]
  },
  {
   "cell_type": "markdown",
   "id": "975a398e",
   "metadata": {
    "papermill": {
     "duration": 0.029801,
     "end_time": "2022-01-18T19:32:31.285441",
     "exception": false,
     "start_time": "2022-01-18T19:32:31.255640",
     "status": "completed"
    },
    "tags": []
   },
   "source": [
    "> This notebook implements a Chemical Element Identifier on originally provided dataset of chemical structure images, then applies various augmentations and text position correction techniques to generate a dataset of augmented images, where chemical elements are flipped/rotated in a correct manner. \n",
    "\n",
    ">> The results get saved as a stand-alone dataset of augmented images with proper labelling."
   ]
  },
  {
   "cell_type": "markdown",
   "id": "9efb1832",
   "metadata": {
    "papermill": {
     "duration": 0.029899,
     "end_time": "2022-01-18T19:32:31.345449",
     "exception": false,
     "start_time": "2022-01-18T19:32:31.315550",
     "status": "completed"
    },
    "tags": []
   },
   "source": [
    "## Import Libraries"
   ]
  },
  {
   "cell_type": "code",
   "execution_count": 1,
   "id": "88c86dc3",
   "metadata": {
    "_cell_guid": "b1076dfc-b9ad-4769-8c92-a6c4dae69d19",
    "_uuid": "8f2839f25d086af736a60e9eeb907d3b93b6e0e5",
    "execution": {
     "iopub.execute_input": "2022-01-18T19:32:31.411162Z",
     "iopub.status.busy": "2022-01-18T19:32:31.409562Z",
     "iopub.status.idle": "2022-01-18T19:32:42.383547Z",
     "shell.execute_reply": "2022-01-18T19:32:42.382911Z",
     "shell.execute_reply.started": "2022-01-18T07:13:07.424389Z"
    },
    "papermill": {
     "duration": 11.008348,
     "end_time": "2022-01-18T19:32:42.383707",
     "exception": false,
     "start_time": "2022-01-18T19:32:31.375359",
     "status": "completed"
    },
    "tags": []
   },
   "outputs": [
    {
     "name": "stdout",
     "output_type": "stream",
     "text": [
      "Collecting imutils\r\n",
      "  Downloading imutils-0.5.4.tar.gz (17 kB)\r\n",
      "Building wheels for collected packages: imutils\r\n",
      "  Building wheel for imutils (setup.py) ... \u001b[?25l-\b \b\\\b \bdone\r\n",
      "\u001b[?25h  Created wheel for imutils: filename=imutils-0.5.4-py3-none-any.whl size=25860 sha256=5ea67701b16636bc94f1d8247eeb8e559384aeb8eb1733fd83bc44c3c2ed304c\r\n",
      "  Stored in directory: /root/.cache/pip/wheels/86/d7/0a/4923351ed1cec5d5e24c1eaf8905567b02a0343b24aa873df2\r\n",
      "Successfully built imutils\r\n",
      "Installing collected packages: imutils\r\n",
      "Successfully installed imutils-0.5.4\r\n",
      "\u001b[33mWARNING: Running pip as the 'root' user can result in broken permissions and conflicting behaviour with the system package manager. It is recommended to use a virtual environment instead: https://pip.pypa.io/warnings/venv\u001b[0m\r\n"
     ]
    }
   ],
   "source": [
    "!pip install imutils"
   ]
  },
  {
   "cell_type": "code",
   "execution_count": 2,
   "id": "c8bc0790",
   "metadata": {
    "execution": {
     "iopub.execute_input": "2022-01-18T19:32:42.454763Z",
     "iopub.status.busy": "2022-01-18T19:32:42.454005Z",
     "iopub.status.idle": "2022-01-18T19:32:42.655201Z",
     "shell.execute_reply": "2022-01-18T19:32:42.654623Z",
     "shell.execute_reply.started": "2022-01-18T07:13:18.069505Z"
    },
    "papermill": {
     "duration": 0.238765,
     "end_time": "2022-01-18T19:32:42.655328",
     "exception": false,
     "start_time": "2022-01-18T19:32:42.416563",
     "status": "completed"
    },
    "tags": []
   },
   "outputs": [],
   "source": [
    "import os\n",
    "import cv2\n",
    "import imutils\n",
    "import numpy as np\n",
    "import pandas as pd\n",
    "from imutils import contours\n",
    "import matplotlib.pyplot as plt\n",
    "from collections import defaultdict"
   ]
  },
  {
   "cell_type": "markdown",
   "id": "6d71f35c",
   "metadata": {
    "papermill": {
     "duration": 0.031616,
     "end_time": "2022-01-18T19:32:42.719993",
     "exception": false,
     "start_time": "2022-01-18T19:32:42.688377",
     "status": "completed"
    },
    "tags": []
   },
   "source": [
    "## Setup Dataset Directory\n",
    "\n",
    "> For this research, the first `N_IMAGES` chemical structure images are selected from Bristol-Myers chemical structure images database. In the cell below, project directory is set up and the labels of images are read-in. The labels are standard international chemical identifiers, called InChI."
   ]
  },
  {
   "cell_type": "code",
   "execution_count": 3,
   "id": "2c195688",
   "metadata": {
    "execution": {
     "iopub.execute_input": "2022-01-18T19:32:42.789321Z",
     "iopub.status.busy": "2022-01-18T19:32:42.788572Z",
     "iopub.status.idle": "2022-01-18T19:32:42.791045Z",
     "shell.execute_reply": "2022-01-18T19:32:42.790508Z",
     "shell.execute_reply.started": "2022-01-18T07:13:18.28728Z"
    },
    "papermill": {
     "duration": 0.038796,
     "end_time": "2022-01-18T19:32:42.791161",
     "exception": false,
     "start_time": "2022-01-18T19:32:42.752365",
     "status": "completed"
    },
    "tags": []
   },
   "outputs": [],
   "source": [
    "START    = 13001\n",
    "N_IMAGES = 14000"
   ]
  },
  {
   "cell_type": "code",
   "execution_count": 4,
   "id": "946721d2",
   "metadata": {
    "execution": {
     "iopub.execute_input": "2022-01-18T19:32:42.907588Z",
     "iopub.status.busy": "2022-01-18T19:32:42.906734Z",
     "iopub.status.idle": "2022-01-18T19:32:51.710567Z",
     "shell.execute_reply": "2022-01-18T19:32:51.710990Z",
     "shell.execute_reply.started": "2022-01-18T07:13:18.29486Z"
    },
    "papermill": {
     "duration": 8.888278,
     "end_time": "2022-01-18T19:32:51.711144",
     "exception": false,
     "start_time": "2022-01-18T19:32:42.822866",
     "status": "completed"
    },
    "tags": []
   },
   "outputs": [
    {
     "data": {
      "text/html": [
       "<div>\n",
       "<style scoped>\n",
       "    .dataframe tbody tr th:only-of-type {\n",
       "        vertical-align: middle;\n",
       "    }\n",
       "\n",
       "    .dataframe tbody tr th {\n",
       "        vertical-align: top;\n",
       "    }\n",
       "\n",
       "    .dataframe thead th {\n",
       "        text-align: right;\n",
       "    }\n",
       "</style>\n",
       "<table border=\"1\" class=\"dataframe\">\n",
       "  <thead>\n",
       "    <tr style=\"text-align: right;\">\n",
       "      <th></th>\n",
       "      <th>image_id</th>\n",
       "      <th>InChI</th>\n",
       "    </tr>\n",
       "  </thead>\n",
       "  <tbody>\n",
       "    <tr>\n",
       "      <th>13001</th>\n",
       "      <td>015fbe6b1701</td>\n",
       "      <td>InChI=1S/C20H20N2O3S/c1-24-17-9-6-15(7-10-17)2...</td>\n",
       "    </tr>\n",
       "    <tr>\n",
       "      <th>13002</th>\n",
       "      <td>015fc125c2e1</td>\n",
       "      <td>InChI=1S/C22H22N2O5/c1-13-8-9-18(14(2)10-13)23...</td>\n",
       "    </tr>\n",
       "    <tr>\n",
       "      <th>13003</th>\n",
       "      <td>015fc493590a</td>\n",
       "      <td>InChI=1S/C19H22N4O3S2/c1-21-12-15(10-17(21)19(...</td>\n",
       "    </tr>\n",
       "    <tr>\n",
       "      <th>13004</th>\n",
       "      <td>015fc992c059</td>\n",
       "      <td>InChI=1S/C15H21ClN2O3S/c1-3-18(14-8-9-22(20,21...</td>\n",
       "    </tr>\n",
       "    <tr>\n",
       "      <th>13005</th>\n",
       "      <td>015fde85594c</td>\n",
       "      <td>InChI=1S/C12H14Br2O2/c1-2-16-12-6-9(5-11(15)8-...</td>\n",
       "    </tr>\n",
       "  </tbody>\n",
       "</table>\n",
       "</div>"
      ],
      "text/plain": [
       "           image_id                                              InChI\n",
       "13001  015fbe6b1701  InChI=1S/C20H20N2O3S/c1-24-17-9-6-15(7-10-17)2...\n",
       "13002  015fc125c2e1  InChI=1S/C22H22N2O5/c1-13-8-9-18(14(2)10-13)23...\n",
       "13003  015fc493590a  InChI=1S/C19H22N4O3S2/c1-21-12-15(10-17(21)19(...\n",
       "13004  015fc992c059  InChI=1S/C15H21ClN2O3S/c1-3-18(14-8-9-22(20,21...\n",
       "13005  015fde85594c  InChI=1S/C12H14Br2O2/c1-2-16-12-6-9(5-11(15)8-..."
      ]
     },
     "execution_count": 4,
     "metadata": {},
     "output_type": "execute_result"
    }
   ],
   "source": [
    "# set the directory to project dataset\n",
    "project_directory = '../input/bms-molecular-translation/'\n",
    "\n",
    "# read the labels in\n",
    "labels  = pd.read_csv(project_directory + 'train_labels.csv')\n",
    "\n",
    "# restrict the labels to the first range\n",
    "labels  = labels.iloc[START:N_IMAGES, :]\n",
    "labels.head()"
   ]
  },
  {
   "cell_type": "code",
   "execution_count": 5,
   "id": "08890ec4",
   "metadata": {
    "execution": {
     "iopub.execute_input": "2022-01-18T19:32:51.782479Z",
     "iopub.status.busy": "2022-01-18T19:32:51.780637Z",
     "iopub.status.idle": "2022-01-18T19:32:51.783088Z",
     "shell.execute_reply": "2022-01-18T19:32:51.783487Z",
     "shell.execute_reply.started": "2022-01-18T07:13:26.572915Z"
    },
    "papermill": {
     "duration": 0.039167,
     "end_time": "2022-01-18T19:32:51.783605",
     "exception": false,
     "start_time": "2022-01-18T19:32:51.744438",
     "status": "completed"
    },
    "tags": []
   },
   "outputs": [],
   "source": [
    "# set the directory to train dataset only\n",
    "train_directory = project_directory + 'train/'"
   ]
  },
  {
   "cell_type": "markdown",
   "id": "93ef9bcd",
   "metadata": {
    "papermill": {
     "duration": 0.032689,
     "end_time": "2022-01-18T19:32:51.848572",
     "exception": false,
     "start_time": "2022-01-18T19:32:51.815883",
     "status": "completed"
    },
    "tags": []
   },
   "source": [
    "## Read Image Data\n",
    "\n",
    "> The code below reads the image data by going through the depth of the given directory and looking for the provided image ID. The image is read in RGB mode."
   ]
  },
  {
   "cell_type": "code",
   "execution_count": 6,
   "id": "02c8016a",
   "metadata": {
    "execution": {
     "iopub.execute_input": "2022-01-18T19:32:51.921118Z",
     "iopub.status.busy": "2022-01-18T19:32:51.920509Z",
     "iopub.status.idle": "2022-01-18T19:32:51.923721Z",
     "shell.execute_reply": "2022-01-18T19:32:51.923294Z",
     "shell.execute_reply.started": "2022-01-18T07:13:26.578153Z"
    },
    "papermill": {
     "duration": 0.042434,
     "end_time": "2022-01-18T19:32:51.923821",
     "exception": false,
     "start_time": "2022-01-18T19:32:51.881387",
     "status": "completed"
    },
    "tags": []
   },
   "outputs": [],
   "source": [
    "def get_image(dir_path: str, image_id: str) -> np.array:\n",
    "    \"\"\"Get the image from the directory path + sub-folder pattern.\n",
    "    \n",
    "    :param dir_path: path to the directory in which the sub-folders are contained\n",
    "    :type dir_path:  str\n",
    "    :param image_id: image label\n",
    "    :type image_id:  str\n",
    "    :return:         read-in image\n",
    "    :rtype:          np.array\n",
    "    \"\"\"\n",
    "    img_path = (\n",
    "        dir_path \n",
    "        + image_id[0] \n",
    "        + '/' \n",
    "        + image_id[1] \n",
    "        + '/' \n",
    "        + image_id[2] \n",
    "        + '/' \n",
    "        + image_id \n",
    "        + '.png'\n",
    "    )\n",
    "    img      = cv2.imread(img_path, cv2.IMREAD_COLOR)\n",
    "    \n",
    "    return img"
   ]
  },
  {
   "cell_type": "markdown",
   "id": "744f4a6c",
   "metadata": {
    "papermill": {
     "duration": 0.032553,
     "end_time": "2022-01-18T19:32:51.988935",
     "exception": false,
     "start_time": "2022-01-18T19:32:51.956382",
     "status": "completed"
    },
    "tags": []
   },
   "source": [
    "## Normalize Image Data\n",
    "\n",
    "> In the cell below, image pixel intensities are normalized using the MINMAX technique."
   ]
  },
  {
   "cell_type": "code",
   "execution_count": 7,
   "id": "15bc193f",
   "metadata": {
    "execution": {
     "iopub.execute_input": "2022-01-18T19:32:52.059056Z",
     "iopub.status.busy": "2022-01-18T19:32:52.058034Z",
     "iopub.status.idle": "2022-01-18T19:32:52.059884Z",
     "shell.execute_reply": "2022-01-18T19:32:52.060294Z",
     "shell.execute_reply.started": "2022-01-18T07:13:26.589063Z"
    },
    "papermill": {
     "duration": 0.03905,
     "end_time": "2022-01-18T19:32:52.060411",
     "exception": false,
     "start_time": "2022-01-18T19:32:52.021361",
     "status": "completed"
    },
    "tags": []
   },
   "outputs": [],
   "source": [
    "def get_normalized_image(img: np.array, dim: tuple = (300, 300)) -> np.array:\n",
    "    \"\"\"Normalize the input image pixel intensities.\n",
    "    \n",
    "    :param img: input image\n",
    "    :type img:  np.array\n",
    "    :return:    normalized image\n",
    "    :rtype:     np.array\n",
    "    \"\"\"    \n",
    "    # normalize the pixel intensities\n",
    "    norm_img    = cv2.normalize(img,  (300, 300), 0, 255, cv2.NORM_MINMAX)\n",
    "    \n",
    "    return norm_img"
   ]
  },
  {
   "cell_type": "markdown",
   "id": "2dea9283",
   "metadata": {
    "papermill": {
     "duration": 0.031733,
     "end_time": "2022-01-18T19:32:52.124658",
     "exception": false,
     "start_time": "2022-01-18T19:32:52.092925",
     "status": "completed"
    },
    "tags": []
   },
   "source": [
    "## Identify Chemical Element Characters on Image Data\n",
    "\n",
    "> In the cell below, an identifier of chemical elements is created. Its main purpose is to optically recognize textual elements on the image data and insert a red bounding box around the recognitions."
   ]
  },
  {
   "cell_type": "code",
   "execution_count": 8,
   "id": "07963d5f",
   "metadata": {
    "execution": {
     "iopub.execute_input": "2022-01-18T19:32:52.221506Z",
     "iopub.status.busy": "2022-01-18T19:32:52.207015Z",
     "iopub.status.idle": "2022-01-18T19:32:52.223670Z",
     "shell.execute_reply": "2022-01-18T19:32:52.223263Z",
     "shell.execute_reply.started": "2022-01-18T07:13:26.598334Z"
    },
    "papermill": {
     "duration": 0.05666,
     "end_time": "2022-01-18T19:32:52.223775",
     "exception": false,
     "start_time": "2022-01-18T19:32:52.167115",
     "status": "completed"
    },
    "tags": []
   },
   "outputs": [],
   "source": [
    "class ChemicalElementIdentifier():\n",
    "    \"\"\"Identifier of chemical elements on an image.\"\"\"\n",
    "    def __init__(self, img: np.array) -> None:\n",
    "        \"\"\"Initialize the class with input image.\n",
    "        \n",
    "        :param img: input image\n",
    "        :type img:  np.array\n",
    "        \"\"\"\n",
    "        self.img    = img\n",
    "\n",
    "    def _get_processed_image(self, threshold: int = 180, kernel_size: tuple = (1, 1)) -> np.array:\n",
    "        \"\"\"Process the input image.\n",
    "        \n",
    "        In particular, apply the following transformations:\n",
    "            1) gray-out the input image\n",
    "            2) apply basic black-and-white thresholding\n",
    "            3) dilate the image to join broken parts\n",
    "            4) detect image edges using Laplace second order derivative mask\n",
    "            \n",
    "        :param threshold:   threshold value for black-and-white (binary) thresholding\n",
    "        :type threshold:    int\n",
    "        :param kernel_size: kernel size for morphological structuring (dilation)\n",
    "        :type kernel_size:  tuple\n",
    "        :return:            processed image\n",
    "        :rtype:             np.array\n",
    "        \"\"\"\n",
    "        # get a grayscale version of the input image\n",
    "        gray_img    = cv2.cvtColor(self.img, cv2.COLOR_BGR2GRAY)\n",
    "        \n",
    "        # if pixel value is greater than threshold (default: 180), set it to white\n",
    "        ret, mask   = cv2.threshold(gray_img, threshold, 255, cv2.THRESH_BINARY)\n",
    "        \n",
    "        bitwise_img = cv2.bitwise_and(gray_img, gray_img, mask=mask)\n",
    "        \n",
    "        # if pixel value is greater than threshold (default: 180), set it to inverse\n",
    "        ret, mask   = cv2.threshold(bitwise_img, threshold, 255, cv2.THRESH_BINARY_INV)\n",
    "        \n",
    "        # apply a 1x1 cross-shaped filtered dilation to increase the size of foreground objects and join broken image parts\n",
    "        kernel      = cv2.getStructuringElement(cv2.MORPH_CROSS, kernel_size)\n",
    "        dilated_img = cv2.dilate(mask, kernel, iterations=9)\n",
    "        \n",
    "        # detect image edges using Laplace second order derivative mask\n",
    "        laplace_img = cv2.Laplacian(dilated_img, cv2.CV_8U)\n",
    "        \n",
    "        return laplace_img\n",
    "    \n",
    "    \n",
    "    def _get_contours(self, img: np.array) -> list:\n",
    "        \"\"\"Get image contours, i.e. curves that join continous parts on an image.\n",
    "        \n",
    "        :param img: grayscale input or processed image\n",
    "        :type img:  np.array\n",
    "        :return:    all contours of an image and their hierarchy\n",
    "        :rtype:     list\n",
    "        \"\"\"\n",
    "        # retrieve only the extreme outer contours and store all contour points\n",
    "        contours, hierarchy = cv2.findContours(img, cv2.RETR_EXTERNAL, cv2.CHAIN_APPROX_NONE)\n",
    "\n",
    "        return contours, hierarchy\n",
    "    \n",
    "    \n",
    "    def _get_chemical_elements_mask(\n",
    "        self, \n",
    "        img:      np.array, \n",
    "        contours: np.array, \n",
    "        beta_1:   int = 20,\n",
    "        beta_2:   int = 650,\n",
    "        alpha:    int = 10,\n",
    "    ) -> np.array:\n",
    "        \"\"\"Get chemical-character-only mask of an image.\n",
    "        \n",
    "        :param img:      a given grayscale input or processed image\n",
    "        :type img:       np.array\n",
    "        :param contours: overall contours of an image\n",
    "        :type contours:  np.array\n",
    "        :param beta_1:   lower threshold for the enclosing circle area\n",
    "        :type beta_1:    int\n",
    "        :param beta_2:   upper threshold for the enclosing circle area\n",
    "        :type beta_2:    int\n",
    "        :param alpha:    threshold for box area\n",
    "        :type alpha:     int\n",
    "        :return:         image chemical characters mask\n",
    "        :rtype:          np.array\n",
    "        \"\"\"\n",
    "        # initialize a list with character-only contours\n",
    "        character_contours = []\n",
    "        \n",
    "        # function for box-side difference calculation\n",
    "        # reference: https://www.kaggle.com/thomaskonstantin/letter-retrieval-molecular-translation\n",
    "        box_side_diff      = lambda x: np.abs(np.linalg.norm(x[0] - x[1]) - np.linalg.norm(x[0] - x[3]))\n",
    "        \n",
    "        # for each contour, do\n",
    "        for contour in contours:\n",
    "            # find the circle covering that contour\n",
    "            (x, y), radius = cv2.minEnclosingCircle(contour)\n",
    "            \n",
    "            # find the minimum area rotated rectangle\n",
    "            rect           = cv2.minAreaRect(contour)\n",
    "            \n",
    "            # identify all four corner points of the rectangle, i.e. the box\n",
    "            box            = cv2.boxPoints(rect)\n",
    "            \n",
    "            # save the contour as a character-only contour if the rule is satisfied\n",
    "            # if bounding box area < alpha and circle area is between beta_1 and beta_2\n",
    "            if (beta_1 < np.pi * radius**2 < beta_2) and box_side_diff(box) < alpha:\n",
    "                character_contours.append(contour)\n",
    "        \n",
    "        # get the contoured image of the same shape as the input\n",
    "        contoured_img_mask = cv2.cvtColor(np.zeros_like(img),cv2.COLOR_GRAY2RGB)\n",
    "        \n",
    "        # draw the contours on the contoured image\n",
    "        contoured_img_mask = cv2.drawContours(contoured_img_mask, character_contours, -1, (255,255,255), 2)\n",
    "        \n",
    "        # gray-out the image\n",
    "        contoured_img_mask = cv2.cvtColor(contoured_img_mask,cv2.COLOR_RGB2GRAY)\n",
    "    \n",
    "        # get the subset of the input image defined by contoured mask\n",
    "        contoured_img      = cv2.bitwise_and(img, img, mask = contoured_img_mask)\n",
    "\n",
    "        return contoured_img\n",
    "    \n",
    "    \n",
    "    def _get_chemical_element_coordinates(self, chemical_elements_mask: np.array) -> list:\n",
    "        \"\"\"Get coordinates of chemical elements on an input or processed image.\n",
    "\n",
    "        :param chemical_elements_mask: chemical-elements-only mask\n",
    "        :type chemical_elements_mask:  np.array\n",
    "        :return:                       list of chemical element coordinates\n",
    "        :rtype:                        list\n",
    "        \"\"\"\n",
    "        # store chemical element coordinates as tuples in this list\n",
    "        coordinates         = []\n",
    "        \n",
    "        # get contours of the image containing chemical elements\n",
    "        contours, hierarchy = self._get_contours(img=chemical_elements_mask)\n",
    "        \n",
    "        # get a bounding rectangle and its point coordinates around the chemical element\n",
    "        for contour in contours:\n",
    "            # find coordinates of the bounding rectangle\n",
    "            x, y, w, h      = cv2.boundingRect(contour)\n",
    "            coordinates.append((x, y, w, h))\n",
    "            \n",
    "        return coordinates\n",
    "       \n",
    "    \n",
    "    def _draw_bounding_boxes_around_elements(self, img: np.array, coordinates: list) -> np.array:\n",
    "        \"\"\"Draw bounding boxes around the coordinates of chemical elements on a given input image.\n",
    "        \n",
    "        :param img:         input image\n",
    "        :type img:          np.array\n",
    "        :param coordinates: list of chemical element coordinates\n",
    "        :type coordinates:  list\n",
    "        :return:            image with bounding boxes around chemical elements\n",
    "        :rtype:             np.array\n",
    "        \"\"\"\n",
    "        img_with_boxes         = img.copy()\n",
    "        for coordinate in coordinates:\n",
    "            # unbundle coordinates\n",
    "            x, y, w, h         = coordinate\n",
    "\n",
    "            # draw a red bounding box around the given coordinates\n",
    "            img_with_boxes = cv2.rectangle(img, (x, y), (x+w, y+h), (255, 0, 0), 1)\n",
    "            \n",
    "        return img_with_boxes\n",
    "    \n",
    "    def _get_chemical_elements(self, img: np.array, coordinates: list) -> np.array:\n",
    "        \"\"\"Get chemical elements from a given input image.\n",
    "        \n",
    "        :param img:         input image\n",
    "        :type img:          np.array\n",
    "        :param coordinates: list of chemical element coordinates\n",
    "        :type coordinates:  list\n",
    "        :return:            image with an identified chemical element\n",
    "        :rtype:             np.array\n",
    "        \"\"\"\n",
    "        chemical_elements         = []\n",
    "        for coordinate in coordinates:\n",
    "            # unbundle coordinates\n",
    "            x, y, w, h            = coordinate\n",
    "\n",
    "            # get a chemical element using the given coordinates\n",
    "            chemical_element      = img[y:y+h, x:x+w]\n",
    "            chemical_elements.append(chemical_element)\n",
    "\n",
    "        return chemical_elements"
   ]
  },
  {
   "cell_type": "code",
   "execution_count": 9,
   "id": "e51eb8be",
   "metadata": {
    "execution": {
     "iopub.execute_input": "2022-01-18T19:32:52.298082Z",
     "iopub.status.busy": "2022-01-18T19:32:52.297516Z",
     "iopub.status.idle": "2022-01-18T19:33:01.315543Z",
     "shell.execute_reply": "2022-01-18T19:33:01.315040Z",
     "shell.execute_reply.started": "2022-01-18T07:13:26.625749Z"
    },
    "papermill": {
     "duration": 9.059071,
     "end_time": "2022-01-18T19:33:01.315675",
     "exception": false,
     "start_time": "2022-01-18T19:32:52.256604",
     "status": "completed"
    },
    "tags": []
   },
   "outputs": [],
   "source": [
    "# read and normalize the images (using a subset of 500 images)\n",
    "\n",
    "# store the input images here\n",
    "sample_images = []\n",
    "\n",
    "# for each image in our subset\n",
    "for i in range(START, N_IMAGES):\n",
    "    \n",
    "    # read the image in\n",
    "    img = get_image(dir_path=train_directory, image_id=labels.loc[i, 'image_id'])\n",
    "    \n",
    "    # normalize the image\n",
    "    img = get_normalized_image(img)\n",
    "    \n",
    "    # store the processed image\n",
    "    sample_images.append(img)"
   ]
  },
  {
   "cell_type": "code",
   "execution_count": 10,
   "id": "3517979f",
   "metadata": {
    "execution": {
     "iopub.execute_input": "2022-01-18T19:33:01.393887Z",
     "iopub.status.busy": "2022-01-18T19:33:01.393237Z",
     "iopub.status.idle": "2022-01-18T19:33:05.160816Z",
     "shell.execute_reply": "2022-01-18T19:33:05.160333Z",
     "shell.execute_reply.started": "2022-01-18T07:13:34.958708Z"
    },
    "papermill": {
     "duration": 3.811672,
     "end_time": "2022-01-18T19:33:05.160977",
     "exception": false,
     "start_time": "2022-01-18T19:33:01.349305",
     "status": "completed"
    },
    "tags": []
   },
   "outputs": [],
   "source": [
    "# get input image with bounding boxes drawn around identified chemical characters\n",
    "\n",
    "# store individual chemical element images here\n",
    "all_chemical_elements          = []\n",
    "\n",
    "# store annotated images here (i.e. with red bounding boxes around chemical elements)\n",
    "final_annotated_images         = []\n",
    "\n",
    "# store un-annotated images here\n",
    "final_unannotated_images       = []\n",
    "\n",
    "# store coordinates of chemical elements here\n",
    "all_chemical_coordinates       = []\n",
    "\n",
    "# for each processed image \n",
    "for img in sample_images:\n",
    "    \n",
    "    # instantiate the chemical element identifier\n",
    "    chem_identifier        = ChemicalElementIdentifier(img)\n",
    "    \n",
    "    # process the image\n",
    "    processed_img          = chem_identifier._get_processed_image()\n",
    "    \n",
    "    # get contours of the processed image\n",
    "    contours, hierarchy    = chem_identifier._get_contours(processed_img)\n",
    "    \n",
    "    # get the mask of only chemical elements\n",
    "    chemical_elements_mask = chem_identifier._get_chemical_elements_mask(\n",
    "        processed_img, \n",
    "        contours\n",
    "    )\n",
    "    \n",
    "    # get the coordinates of identified chemical elements\n",
    "    chemical_coordinates   = chem_identifier._get_chemical_element_coordinates(\n",
    "        chemical_elements_mask\n",
    "    )\n",
    "    \n",
    "    # get the images of chemical elements themselves\n",
    "    chemical_elements      = chem_identifier._get_chemical_elements(\n",
    "        img, \n",
    "        chemical_coordinates\n",
    "    )\n",
    "    \n",
    "    # store un-annotated images\n",
    "    final_unannotated_image  = img.copy()\n",
    "    \n",
    "    # draw bounding boxes around the chemical elements on the original image\n",
    "    final_annotated_image  = chem_identifier._draw_bounding_boxes_around_elements(\n",
    "        img, \n",
    "        chemical_coordinates\n",
    "    )\n",
    "    \n",
    "    \n",
    "    # store identified chemical elements\n",
    "    all_chemical_elements.append(chemical_elements)\n",
    "    \n",
    "    # store annotated original images (i.e. with bounding boxes)\n",
    "    final_annotated_images.append(final_annotated_image)\n",
    "    \n",
    "    # store un-annotated original images\n",
    "    final_unannotated_images.append(final_unannotated_image) \n",
    "    \n",
    "    # store the coordinates of chemical elements\n",
    "    all_chemical_coordinates.append(chemical_coordinates)"
   ]
  },
  {
   "cell_type": "code",
   "execution_count": 11,
   "id": "99d82fc0",
   "metadata": {
    "execution": {
     "iopub.execute_input": "2022-01-18T19:33:05.246458Z",
     "iopub.status.busy": "2022-01-18T19:33:05.245803Z",
     "iopub.status.idle": "2022-01-18T19:33:05.844506Z",
     "shell.execute_reply": "2022-01-18T19:33:05.844927Z",
     "shell.execute_reply.started": "2022-01-18T07:13:39.251965Z"
    },
    "papermill": {
     "duration": 0.650875,
     "end_time": "2022-01-18T19:33:05.845087",
     "exception": false,
     "start_time": "2022-01-18T19:33:05.194212",
     "status": "completed"
    },
    "tags": []
   },
   "outputs": [
    {
     "data": {
      "image/png": "[encoded data removed]",
      "text/plain": [
       "<Figure size 504x504 with 1 Axes>"
      ]
     },
     "metadata": {
      "needs_background": "light"
     },
     "output_type": "display_data"
    },
    {
     "data": {
      "image/png": "[encoded data removed]",
      "text/plain": [
       "<Figure size 504x504 with 1 Axes>"
      ]
     },
     "metadata": {
      "needs_background": "light"
     },
     "output_type": "display_data"
    },
    {
     "data": {
      "image/png": "[encoded data removed]",
      "text/plain": [
       "<Figure size 504x504 with 1 Axes>"
      ]
     },
     "metadata": {
      "needs_background": "light"
     },
     "output_type": "display_data"
    }
   ],
   "source": [
    "# view the results visually\n",
    "for img in final_annotated_images[:3]:\n",
    "    plt.figure(figsize=(7, 7))\n",
    "    plt.imshow(img)"
   ]
  },
  {
   "cell_type": "markdown",
   "id": "8b7828ba",
   "metadata": {
    "papermill": {
     "duration": 0.034716,
     "end_time": "2022-01-18T19:33:05.915895",
     "exception": false,
     "start_time": "2022-01-18T19:33:05.881179",
     "status": "completed"
    },
    "tags": []
   },
   "source": [
    "## Anomaly Detection\n",
    "\n",
    "> In the code below, an anomaly detection method is suggested by going through all image data, calculating the mean and standard deviation of the identified box areas and removing the outliers. This helps get rid of false positives that sometimes get recognized by the algorithm above.\n",
    "\n",
    "> This anomaly detection technique is based on a sample of 500 images used above for chemical element identification."
   ]
  },
  {
   "cell_type": "code",
   "execution_count": 12,
   "id": "82fa39ae",
   "metadata": {
    "execution": {
     "iopub.execute_input": "2022-01-18T19:33:05.993730Z",
     "iopub.status.busy": "2022-01-18T19:33:05.993165Z",
     "iopub.status.idle": "2022-01-18T19:33:05.996067Z",
     "shell.execute_reply": "2022-01-18T19:33:05.995601Z",
     "shell.execute_reply.started": "2022-01-18T07:13:39.880762Z"
    },
    "papermill": {
     "duration": 0.04422,
     "end_time": "2022-01-18T19:33:05.996185",
     "exception": false,
     "start_time": "2022-01-18T19:33:05.951965",
     "status": "completed"
    },
    "tags": []
   },
   "outputs": [],
   "source": [
    "def compute_average_box_size(set_of_chemical_coordinates: list) -> tuple:\n",
    "    \"\"\"Computes the chemical element areas, their mean and standard deviation across the entire set of detected chemical elements.\n",
    "    \n",
    "    :param set_of_chemical_coordinates: list of all identified chemical coordinates\n",
    "    :type set_of_chemical_coordinates:  list\n",
    "    :return:                            computed box areas, the mean box size and standard deviation\n",
    "    :rtype:                             tuple\n",
    "    \"\"\"\n",
    "    # store all computed areas in the list below\n",
    "    areas              = []\n",
    "    \n",
    "    # for each set of chemical coordinates, do\n",
    "    for _set in set_of_chemical_coordinates:\n",
    "        \n",
    "        # for each coordinate in the set, do\n",
    "        for coordinate in _set:\n",
    "            # unravel the coordinate tuple\n",
    "            x, y, w, h = coordinate\n",
    "    \n",
    "            # compute area\n",
    "            area       = w*h\n",
    "            \n",
    "            # store the computed area in a container\n",
    "            areas.append(area)\n",
    "    \n",
    "    # get the mean area size and its standard deviation\n",
    "    average_box_size   = np.mean(areas)\n",
    "    box_size_stdev     = np.std(areas)\n",
    "    \n",
    "    # normalize the areas using the mean and stdev\n",
    "    areas              = [(float(idx) - average_box_size)/box_size_stdev for idx in areas]\n",
    "    \n",
    "    return areas, average_box_size, box_size_stdev"
   ]
  },
  {
   "cell_type": "code",
   "execution_count": 13,
   "id": "d9323c00",
   "metadata": {
    "execution": {
     "iopub.execute_input": "2022-01-18T19:33:06.073250Z",
     "iopub.status.busy": "2022-01-18T19:33:06.072523Z",
     "iopub.status.idle": "2022-01-18T19:33:06.311630Z",
     "shell.execute_reply": "2022-01-18T19:33:06.312052Z",
     "shell.execute_reply.started": "2022-01-18T07:13:39.890138Z"
    },
    "papermill": {
     "duration": 0.2815,
     "end_time": "2022-01-18T19:33:06.312211",
     "exception": false,
     "start_time": "2022-01-18T19:33:06.030711",
     "status": "completed"
    },
    "tags": []
   },
   "outputs": [
    {
     "name": "stdout",
     "output_type": "stream",
     "text": [
      "Average box size:  108.97965423968012 \n",
      " Standard deviation:  69.34611641748852\n"
     ]
    },
    {
     "data": {
      "text/plain": [
       "(array([4.370e+03, 1.618e+03, 2.102e+03, 8.300e+01, 1.420e+02, 1.670e+02,\n",
       "        4.000e+00, 5.000e+00, 1.000e+01, 2.000e+00]),\n",
       " array([-1.26870341, -0.3789636 ,  0.5107762 ,  1.400516  ,  2.29025581,\n",
       "         3.17999561,  4.06973541,  4.95947522,  5.84921502,  6.73895482,\n",
       "         7.62869463]),\n",
       " <BarContainer object of 10 artists>)"
      ]
     },
     "execution_count": 13,
     "metadata": {},
     "output_type": "execute_result"
    },
    {
     "data": {
      "image/png": "[encoded data removed]",
      "text/plain": [
       "<Figure size 432x288 with 1 Axes>"
      ]
     },
     "metadata": {
      "needs_background": "light"
     },
     "output_type": "display_data"
    }
   ],
   "source": [
    "# compute the areas of boxes, average box size and standard deviation\n",
    "areas, avg_box_size, stdev = compute_average_box_size(all_chemical_coordinates)\n",
    "print('Average box size: ', avg_box_size, '\\n', 'Standard deviation: ', stdev)\n",
    "\n",
    "# plot the distribution of chemical element areas\n",
    "plt.hist(areas)"
   ]
  },
  {
   "cell_type": "markdown",
   "id": "fdfaa867",
   "metadata": {
    "papermill": {
     "duration": 0.036041,
     "end_time": "2022-01-18T19:33:06.384119",
     "exception": false,
     "start_time": "2022-01-18T19:33:06.348078",
     "status": "completed"
    },
    "tags": []
   },
   "source": [
    "## Transform Chemical Elements (with Anomaly Removal)\n",
    "\n",
    "> Since some chemical element names change their direction upon rotations / flips (i.e. they are not symmetric), it's important to ensure that they are rotated correctly when the whole image is rotated. For example, the elements `O` and `H` will be correct regardless of the degree of rotation, but the same cannot be true for such an element as `OH`, which can transform into being `HO`, or `S` which will start looking into the opposite direction.\n",
    "\n",
    "> In the code below, we transform images by applying rotations and flips whilst preserving the textual orientation of chemical elements. Moreover, anomaly detection technique from the code above is applied to ensure only valid boxes are considered.\n",
    "\n",
    "> The resultant original and transformed images form a new dataset."
   ]
  },
  {
   "cell_type": "markdown",
   "id": "02a95b72",
   "metadata": {
    "papermill": {
     "duration": 0.035968,
     "end_time": "2022-01-18T19:33:06.456432",
     "exception": false,
     "start_time": "2022-01-18T19:33:06.420464",
     "status": "completed"
    },
    "tags": []
   },
   "source": [
    "### Augment Image Data \n",
    "\n",
    "> The following augmentation techniques are applied: horizontal, vertical and two-way flips, 90 and -90 degree rotations."
   ]
  },
  {
   "cell_type": "code",
   "execution_count": 14,
   "id": "9986ec8a",
   "metadata": {
    "execution": {
     "iopub.execute_input": "2022-01-18T19:33:06.533969Z",
     "iopub.status.busy": "2022-01-18T19:33:06.533188Z",
     "iopub.status.idle": "2022-01-18T19:33:06.535579Z",
     "shell.execute_reply": "2022-01-18T19:33:06.535151Z",
     "shell.execute_reply.started": "2022-01-18T07:13:40.16798Z"
    },
    "papermill": {
     "duration": 0.043461,
     "end_time": "2022-01-18T19:33:06.535679",
     "exception": false,
     "start_time": "2022-01-18T19:33:06.492218",
     "status": "completed"
    },
    "tags": []
   },
   "outputs": [],
   "source": [
    "def get_augmentations(img: np.array) -> list:\n",
    "    \"\"\"Get augmented images - rotations and flips.\n",
    "    \n",
    "    :param img:                  input image\n",
    "    :type img:                   np.array\n",
    "    :return:                     list of image augmentations\n",
    "    :rtype:                      list\n",
    "    \"\"\"\n",
    "    # generate flips along axes 0, 1 and both\n",
    "    flip_vertical   = cv2.flip(img, 0) # vertical\n",
    "    flip_horizontal = cv2.flip(img, 1) # horizontal\n",
    "    flip_both_axes  = cv2.flip(img, -1) # two-way\n",
    "    \n",
    "    # generate rotations by 90 and 270 degrees\n",
    "    rotate_90       = cv2.rotate(img, cv2.ROTATE_90_CLOCKWISE)\n",
    "    rotate_270      = cv2.rotate(img, cv2.ROTATE_90_COUNTERCLOCKWISE)\n",
    "    \n",
    "    # return all transformations as elements of one list\n",
    "    augmentations   = [flip_vertical, flip_horizontal, flip_both_axes, rotate_90, rotate_270]\n",
    "    \n",
    "    return augmentations"
   ]
  },
  {
   "cell_type": "code",
   "execution_count": 15,
   "id": "4a7f8a65",
   "metadata": {
    "execution": {
     "iopub.execute_input": "2022-01-18T19:33:06.612264Z",
     "iopub.status.busy": "2022-01-18T19:33:06.611422Z",
     "iopub.status.idle": "2022-01-18T19:33:08.640014Z",
     "shell.execute_reply": "2022-01-18T19:33:08.639442Z",
     "shell.execute_reply.started": "2022-01-18T07:13:40.176833Z"
    },
    "papermill": {
     "duration": 2.068964,
     "end_time": "2022-01-18T19:33:08.640154",
     "exception": false,
     "start_time": "2022-01-18T19:33:06.571190",
     "status": "completed"
    },
    "tags": []
   },
   "outputs": [],
   "source": [
    "# get the N_IMAGES images (since we're restarting for the purpose of augmenting)\n",
    "\n",
    "augmented_images = {}\n",
    "\n",
    "for i in range(START, N_IMAGES):\n",
    "    # get the original image and its label\n",
    "    img = get_image(dir_path=train_directory, image_id=labels.loc[i, 'image_id'])\n",
    "    lbl = labels.loc[i, 'image_id']\n",
    "    \n",
    "    # normalize the image\n",
    "    img = get_normalized_image(img)\n",
    "    \n",
    "    # get the image augmentations\n",
    "    aug = get_augmentations(img)\n",
    "    \n",
    "    # append augmentations to the label key\n",
    "    augmented_images[lbl] = aug"
   ]
  },
  {
   "cell_type": "markdown",
   "id": "ec15b2a9",
   "metadata": {
    "papermill": {
     "duration": 0.0358,
     "end_time": "2022-01-18T19:33:08.713223",
     "exception": false,
     "start_time": "2022-01-18T19:33:08.677423",
     "status": "completed"
    },
    "tags": []
   },
   "source": [
    "### Annotate Augmented Images (with Anomaly Detection)"
   ]
  },
  {
   "cell_type": "code",
   "execution_count": 16,
   "id": "5bbf8cdf",
   "metadata": {
    "execution": {
     "iopub.execute_input": "2022-01-18T19:33:08.796882Z",
     "iopub.status.busy": "2022-01-18T19:33:08.796085Z",
     "iopub.status.idle": "2022-01-18T19:37:16.841191Z",
     "shell.execute_reply": "2022-01-18T19:37:16.841662Z",
     "shell.execute_reply.started": "2022-01-18T07:13:42.699718Z"
    },
    "papermill": {
     "duration": 248.092796,
     "end_time": "2022-01-18T19:37:16.841834",
     "exception": false,
     "start_time": "2022-01-18T19:33:08.749038",
     "status": "completed"
    },
    "tags": []
   },
   "outputs": [],
   "source": [
    "# get input image with bounding boxes drawn around identified chemical characters\n",
    "\n",
    "# use these dictionaries to store key-value pairs (key: InChI label, values: augmented images, elements and coordinates)\n",
    "aug_chemical_elements          = {}\n",
    "aug_annotated_images           = {}\n",
    "aug_chemical_coordinates       = {}\n",
    "aug_unannotated_images         = {}\n",
    "\n",
    "# for each augmented image list, do\n",
    "for lbl, augs in augmented_images.items():\n",
    "    \n",
    "    # initialization for storage dictionaries\n",
    "    aug_chemical_elements[lbl]    = [0, 0, 0, 0, 0]\n",
    "    aug_annotated_images[lbl]     = [0, 0, 0, 0, 0]\n",
    "    aug_unannotated_images[lbl]   = [0, 0, 0, 0, 0]\n",
    "    aug_chemical_coordinates[lbl] = [0, 0, 0, 0, 0]\n",
    "    idx                           = 0\n",
    "    \n",
    "    # for each augmentation, do\n",
    "    for aug in augs:\n",
    "        # instantiate the chemical element identifier\n",
    "        chem_identifier        = ChemicalElementIdentifier(aug)\n",
    "        # pre-process the image\n",
    "        processed_img          = chem_identifier._get_processed_image()\n",
    "        # get image contours\n",
    "        contours, hierarchy    = chem_identifier._get_contours(processed_img)\n",
    "        # get the mask of only chemical elements\n",
    "        chemical_elements_mask = chem_identifier._get_chemical_elements_mask(\n",
    "            processed_img, \n",
    "            contours\n",
    "        )\n",
    "        # get coordinates of chemical elements\n",
    "        chemical_coordinates   = chem_identifier._get_chemical_element_coordinates(\n",
    "            chemical_elements_mask\n",
    "        )\n",
    "        # store non-outlier coordinates only\n",
    "        updated_chem_coords    = []\n",
    "        # for each coordinate, do\n",
    "        for coordinate in chemical_coordinates:\n",
    "            # unbundle the coordinate\n",
    "            x, y, w, h         = coordinate\n",
    "            # compute the area of the box\n",
    "            area               = w*h\n",
    "            # if the normalized area is no more than 3 stdev away, keep the element\n",
    "            if (\n",
    "                np.mean(areas) - 3* np.std(areas) \n",
    "                < \n",
    "                ((area - avg_box_size) / stdev) \n",
    "                < \n",
    "                np.mean(areas) + 3* np.std(areas)\n",
    "            ):\n",
    "                updated_chem_coords.append(coordinate)\n",
    "        \n",
    "        # get chemical elements separately\n",
    "        chemical_elements      = chem_identifier._get_chemical_elements(\n",
    "            aug, \n",
    "            updated_chem_coords\n",
    "        )\n",
    "        \n",
    "        final_unannotated_image = aug.copy()\n",
    "        \n",
    "        # get final image with red bounding boxes around identified chemical elements\n",
    "        final_annotated_image  = chem_identifier._draw_bounding_boxes_around_elements(\n",
    "            aug, \n",
    "            updated_chem_coords\n",
    "        )\n",
    "        \n",
    "        # update key-value pairs with final results\n",
    "        aug_chemical_elements[lbl][idx]    = chemical_elements\n",
    "        aug_annotated_images[lbl][idx]     = final_annotated_image  \n",
    "        aug_unannotated_images[lbl][idx]   = final_unannotated_image\n",
    "        aug_chemical_coordinates[lbl][idx] = updated_chem_coords\n",
    "        \n",
    "        idx                                +=1"
   ]
  },
  {
   "cell_type": "markdown",
   "id": "58335c36",
   "metadata": {
    "papermill": {
     "duration": 0.035817,
     "end_time": "2022-01-18T19:37:16.914792",
     "exception": false,
     "start_time": "2022-01-18T19:37:16.878975",
     "status": "completed"
    },
    "tags": []
   },
   "source": [
    "### Correct Textual Orientations"
   ]
  },
  {
   "cell_type": "code",
   "execution_count": 17,
   "id": "4d11cebf",
   "metadata": {
    "execution": {
     "iopub.execute_input": "2022-01-18T19:37:16.991175Z",
     "iopub.status.busy": "2022-01-18T19:37:16.990575Z",
     "iopub.status.idle": "2022-01-18T19:37:17.234060Z",
     "shell.execute_reply": "2022-01-18T19:37:17.234514Z",
     "shell.execute_reply.started": "2022-01-18T07:17:44.191825Z"
    },
    "papermill": {
     "duration": 0.284142,
     "end_time": "2022-01-18T19:37:17.234663",
     "exception": false,
     "start_time": "2022-01-18T19:37:16.950521",
     "status": "completed"
    },
    "tags": []
   },
   "outputs": [
    {
     "data": {
      "text/plain": [
       "<matplotlib.image.AxesImage at 0x7fd8f1bfe050>"
      ]
     },
     "execution_count": 17,
     "metadata": {},
     "output_type": "execute_result"
    },
    {
     "data": {
      "image/png": "[encoded data removed]",
      "text/plain": [
       "<Figure size 432x288 with 1 Axes>"
      ]
     },
     "metadata": {
      "needs_background": "light"
     },
     "output_type": "display_data"
    }
   ],
   "source": [
    "# showcase results on an example -- plotting the original image\n",
    "im = get_image(dir_path=train_directory, image_id=lbl)\n",
    "plt.imshow(im)"
   ]
  },
  {
   "cell_type": "markdown",
   "id": "85dd0740",
   "metadata": {
    "papermill": {
     "duration": 0.036592,
     "end_time": "2022-01-18T19:37:17.308193",
     "exception": false,
     "start_time": "2022-01-18T19:37:17.271601",
     "status": "completed"
    },
    "tags": []
   },
   "source": [
    "#### Correct the Vertical Flip (flip = 0)"
   ]
  },
  {
   "cell_type": "code",
   "execution_count": 18,
   "id": "8a4955d5",
   "metadata": {
    "execution": {
     "iopub.execute_input": "2022-01-18T19:37:17.388596Z",
     "iopub.status.busy": "2022-01-18T19:37:17.387768Z",
     "iopub.status.idle": "2022-01-18T19:37:17.609880Z",
     "shell.execute_reply": "2022-01-18T19:37:17.609438Z",
     "shell.execute_reply.started": "2022-01-18T07:17:44.420847Z"
    },
    "papermill": {
     "duration": 0.264846,
     "end_time": "2022-01-18T19:37:17.610005",
     "exception": false,
     "start_time": "2022-01-18T19:37:17.345159",
     "status": "completed"
    },
    "tags": []
   },
   "outputs": [
    {
     "data": {
      "text/plain": [
       "<matplotlib.image.AxesImage at 0x7fd8f059ab90>"
      ]
     },
     "execution_count": 18,
     "metadata": {},
     "output_type": "execute_result"
    },
    {
     "data": {
      "image/png": "[encoded data removed]",
      "text/plain": [
       "<Figure size 432x288 with 1 Axes>"
      ]
     },
     "metadata": {
      "needs_background": "light"
     },
     "output_type": "display_data"
    }
   ],
   "source": [
    "# show the augmented image before the correction\n",
    "plt.imshow(aug_unannotated_images[lbl][0])"
   ]
  },
  {
   "cell_type": "code",
   "execution_count": 19,
   "id": "5f341833",
   "metadata": {
    "execution": {
     "iopub.execute_input": "2022-01-18T19:37:17.692089Z",
     "iopub.status.busy": "2022-01-18T19:37:17.689665Z",
     "iopub.status.idle": "2022-01-18T19:37:17.732304Z",
     "shell.execute_reply": "2022-01-18T19:37:17.731885Z",
     "shell.execute_reply.started": "2022-01-18T07:17:44.640725Z"
    },
    "papermill": {
     "duration": 0.084041,
     "end_time": "2022-01-18T19:37:17.732412",
     "exception": false,
     "start_time": "2022-01-18T19:37:17.648371",
     "status": "completed"
    },
    "tags": []
   },
   "outputs": [],
   "source": [
    "# vertical flip has index = 0 in the list of augmented images from above\n",
    "\n",
    "# for each vertically flipped image, do\n",
    "for lbl, augs in aug_unannotated_images.items():\n",
    "    # for each chemical element coordinate on that image\n",
    "    for idx in range(len(aug_chemical_coordinates[lbl][0])):\n",
    "        # unbundle the coordinate\n",
    "        x, y, w, h            = aug_chemical_coordinates[lbl][0][idx]\n",
    "        # re-flip the box bounded by these coordinates\n",
    "        augs[0][y:y+h, x:x+w] = cv2.flip(augs[0][y:y+h, x:x+w], 0)\n",
    "        aug_unannotated_images[lbl][0] = augs[0]"
   ]
  },
  {
   "cell_type": "code",
   "execution_count": 20,
   "id": "6452182a",
   "metadata": {
    "execution": {
     "iopub.execute_input": "2022-01-18T19:37:17.817377Z",
     "iopub.status.busy": "2022-01-18T19:37:17.816568Z",
     "iopub.status.idle": "2022-01-18T19:37:18.038376Z",
     "shell.execute_reply": "2022-01-18T19:37:18.037937Z",
     "shell.execute_reply.started": "2022-01-18T07:17:44.686815Z"
    },
    "papermill": {
     "duration": 0.268287,
     "end_time": "2022-01-18T19:37:18.038498",
     "exception": false,
     "start_time": "2022-01-18T19:37:17.770211",
     "status": "completed"
    },
    "tags": []
   },
   "outputs": [
    {
     "data": {
      "text/plain": [
       "<matplotlib.image.AxesImage at 0x7fd8f04afd10>"
      ]
     },
     "execution_count": 20,
     "metadata": {},
     "output_type": "execute_result"
    },
    {
     "data": {
      "image/png": "[encoded data removed]",
      "text/plain": [
       "<Figure size 432x288 with 1 Axes>"
      ]
     },
     "metadata": {
      "needs_background": "light"
     },
     "output_type": "display_data"
    }
   ],
   "source": [
    "# display the example result\n",
    "plt.imshow(aug_unannotated_images[lbl][0])"
   ]
  },
  {
   "cell_type": "markdown",
   "id": "4f3a97d4",
   "metadata": {
    "papermill": {
     "duration": 0.039661,
     "end_time": "2022-01-18T19:37:18.118050",
     "exception": false,
     "start_time": "2022-01-18T19:37:18.078389",
     "status": "completed"
    },
    "tags": []
   },
   "source": [
    "#### Correct the Horizontal Flip (flip = 1)"
   ]
  },
  {
   "cell_type": "code",
   "execution_count": 21,
   "id": "294f7d19",
   "metadata": {
    "execution": {
     "iopub.execute_input": "2022-01-18T19:37:18.207553Z",
     "iopub.status.busy": "2022-01-18T19:37:18.204873Z",
     "iopub.status.idle": "2022-01-18T19:37:18.426153Z",
     "shell.execute_reply": "2022-01-18T19:37:18.425669Z",
     "shell.execute_reply.started": "2022-01-18T07:17:44.907836Z"
    },
    "papermill": {
     "duration": 0.269493,
     "end_time": "2022-01-18T19:37:18.426273",
     "exception": false,
     "start_time": "2022-01-18T19:37:18.156780",
     "status": "completed"
    },
    "tags": []
   },
   "outputs": [
    {
     "data": {
      "text/plain": [
       "<matplotlib.image.AxesImage at 0x7fd8eda30e50>"
      ]
     },
     "execution_count": 21,
     "metadata": {},
     "output_type": "execute_result"
    },
    {
     "data": {
      "image/png": "[encoded data removed]",
      "text/plain": [
       "<Figure size 432x288 with 1 Axes>"
      ]
     },
     "metadata": {
      "needs_background": "light"
     },
     "output_type": "display_data"
    }
   ],
   "source": [
    "# show the augmented image before the correction\n",
    "plt.imshow(aug_unannotated_images[lbl][1])"
   ]
  },
  {
   "cell_type": "code",
   "execution_count": 22,
   "id": "9855fe02",
   "metadata": {
    "execution": {
     "iopub.execute_input": "2022-01-18T19:37:18.512048Z",
     "iopub.status.busy": "2022-01-18T19:37:18.511283Z",
     "iopub.status.idle": "2022-01-18T19:37:18.556154Z",
     "shell.execute_reply": "2022-01-18T19:37:18.556575Z",
     "shell.execute_reply.started": "2022-01-18T07:17:45.128348Z"
    },
    "papermill": {
     "duration": 0.090304,
     "end_time": "2022-01-18T19:37:18.556702",
     "exception": false,
     "start_time": "2022-01-18T19:37:18.466398",
     "status": "completed"
    },
    "tags": []
   },
   "outputs": [],
   "source": [
    "# horizontal flip has index = 1 in the list of augmented images from above\n",
    "\n",
    "# for each horizontally flipped image, do\n",
    "for lbl, augs in aug_unannotated_images.items():\n",
    "    # for each chemical element coordinate on that image\n",
    "    for idx in range(len(aug_chemical_coordinates[lbl][1])):\n",
    "        # unbundle the coordinate\n",
    "        x, y, w, h            = aug_chemical_coordinates[lbl][1][idx]\n",
    "        # re-flip the box bounded by these coordinates\n",
    "        augs[1][y:y+h, x:x+w] = cv2.flip(augs[1][y:y+h, x:x+w], 1)\n",
    "        aug_unannotated_images[lbl][1] = augs[1]"
   ]
  },
  {
   "cell_type": "code",
   "execution_count": 23,
   "id": "5d43d170",
   "metadata": {
    "execution": {
     "iopub.execute_input": "2022-01-18T19:37:18.643212Z",
     "iopub.status.busy": "2022-01-18T19:37:18.642355Z",
     "iopub.status.idle": "2022-01-18T19:37:18.869544Z",
     "shell.execute_reply": "2022-01-18T19:37:18.869997Z",
     "shell.execute_reply.started": "2022-01-18T07:17:45.179376Z"
    },
    "papermill": {
     "duration": 0.273423,
     "end_time": "2022-01-18T19:37:18.870150",
     "exception": false,
     "start_time": "2022-01-18T19:37:18.596727",
     "status": "completed"
    },
    "tags": []
   },
   "outputs": [
    {
     "data": {
      "text/plain": [
       "<matplotlib.image.AxesImage at 0x7fd8ed9accd0>"
      ]
     },
     "execution_count": 23,
     "metadata": {},
     "output_type": "execute_result"
    },
    {
     "data": {
      "image/png": "[encoded data removed]",
      "text/plain": [
       "<Figure size 432x288 with 1 Axes>"
      ]
     },
     "metadata": {
      "needs_background": "light"
     },
     "output_type": "display_data"
    }
   ],
   "source": [
    "# display the example result\n",
    "plt.imshow(aug_unannotated_images[lbl][1])"
   ]
  },
  {
   "cell_type": "markdown",
   "id": "69efdc4c",
   "metadata": {
    "papermill": {
     "duration": 0.044387,
     "end_time": "2022-01-18T19:37:18.958947",
     "exception": false,
     "start_time": "2022-01-18T19:37:18.914560",
     "status": "completed"
    },
    "tags": []
   },
   "source": [
    "#### Correct Two-Way Flips (flip = -1)"
   ]
  },
  {
   "cell_type": "code",
   "execution_count": 24,
   "id": "4c0158c8",
   "metadata": {
    "execution": {
     "iopub.execute_input": "2022-01-18T19:37:19.073381Z",
     "iopub.status.busy": "2022-01-18T19:37:19.066708Z",
     "iopub.status.idle": "2022-01-18T19:37:19.299474Z",
     "shell.execute_reply": "2022-01-18T19:37:19.300027Z",
     "shell.execute_reply.started": "2022-01-18T07:17:45.400294Z"
    },
    "papermill": {
     "duration": 0.29757,
     "end_time": "2022-01-18T19:37:19.300256",
     "exception": false,
     "start_time": "2022-01-18T19:37:19.002686",
     "status": "completed"
    },
    "tags": []
   },
   "outputs": [
    {
     "data": {
      "text/plain": [
       "<matplotlib.image.AxesImage at 0x7fd8ed954fd0>"
      ]
     },
     "execution_count": 24,
     "metadata": {},
     "output_type": "execute_result"
    },
    {
     "data": {
      "image/png": "[encoded data removed]",
      "text/plain": [
       "<Figure size 432x288 with 1 Axes>"
      ]
     },
     "metadata": {
      "needs_background": "light"
     },
     "output_type": "display_data"
    }
   ],
   "source": [
    "# show the augmented image before the correction\n",
    "plt.imshow(aug_unannotated_images[lbl][2])"
   ]
  },
  {
   "cell_type": "code",
   "execution_count": 25,
   "id": "b96b9bfc",
   "metadata": {
    "execution": {
     "iopub.execute_input": "2022-01-18T19:37:19.393699Z",
     "iopub.status.busy": "2022-01-18T19:37:19.392820Z",
     "iopub.status.idle": "2022-01-18T19:37:19.439383Z",
     "shell.execute_reply": "2022-01-18T19:37:19.438940Z",
     "shell.execute_reply.started": "2022-01-18T07:17:45.631682Z"
    },
    "papermill": {
     "duration": 0.095299,
     "end_time": "2022-01-18T19:37:19.439489",
     "exception": false,
     "start_time": "2022-01-18T19:37:19.344190",
     "status": "completed"
    },
    "tags": []
   },
   "outputs": [],
   "source": [
    "# two-way flip has index = 2 in the list of augmented images from above\n",
    "\n",
    "# for each image flipped two-ways, do\n",
    "for lbl, augs in aug_unannotated_images.items():\n",
    "    # for each chemical element coordinate on that image\n",
    "    for idx in range(len(aug_chemical_coordinates[lbl][2])):\n",
    "        # unbundle the coordinate\n",
    "        x, y, w, h            = aug_chemical_coordinates[lbl][2][idx]\n",
    "        # re-flip the box bounded by these coordinates\n",
    "        augs[2][y:y+h, x:x+w] = cv2.flip(augs[2][y:y+h, x:x+w], -1)\n",
    "        aug_unannotated_images[lbl][2] = augs[2]"
   ]
  },
  {
   "cell_type": "code",
   "execution_count": 26,
   "id": "9e1c8862",
   "metadata": {
    "execution": {
     "iopub.execute_input": "2022-01-18T19:37:19.533241Z",
     "iopub.status.busy": "2022-01-18T19:37:19.532611Z",
     "iopub.status.idle": "2022-01-18T19:37:19.751896Z",
     "shell.execute_reply": "2022-01-18T19:37:19.751444Z",
     "shell.execute_reply.started": "2022-01-18T07:17:45.683918Z"
    },
    "papermill": {
     "duration": 0.270225,
     "end_time": "2022-01-18T19:37:19.752015",
     "exception": false,
     "start_time": "2022-01-18T19:37:19.481790",
     "status": "completed"
    },
    "tags": []
   },
   "outputs": [
    {
     "data": {
      "text/plain": [
       "<matplotlib.image.AxesImage at 0x7fd8ed8c9510>"
      ]
     },
     "execution_count": 26,
     "metadata": {},
     "output_type": "execute_result"
    },
    {
     "data": {
      "image/png": "[encoded data removed]",
      "text/plain": [
       "<Figure size 432x288 with 1 Axes>"
      ]
     },
     "metadata": {
      "needs_background": "light"
     },
     "output_type": "display_data"
    }
   ],
   "source": [
    "# display the example result\n",
    "plt.imshow(aug_unannotated_images[lbl][2])"
   ]
  },
  {
   "cell_type": "markdown",
   "id": "e95f74ef",
   "metadata": {
    "papermill": {
     "duration": 0.043392,
     "end_time": "2022-01-18T19:37:19.838888",
     "exception": false,
     "start_time": "2022-01-18T19:37:19.795496",
     "status": "completed"
    },
    "tags": []
   },
   "source": [
    "#### Correct Rotations by +90 Degrees"
   ]
  },
  {
   "cell_type": "code",
   "execution_count": 27,
   "id": "db1fddb7",
   "metadata": {
    "execution": {
     "iopub.execute_input": "2022-01-18T19:37:19.938520Z",
     "iopub.status.busy": "2022-01-18T19:37:19.937709Z",
     "iopub.status.idle": "2022-01-18T19:37:20.123913Z",
     "shell.execute_reply": "2022-01-18T19:37:20.123463Z",
     "shell.execute_reply.started": "2022-01-18T07:17:45.903543Z"
    },
    "papermill": {
     "duration": 0.241785,
     "end_time": "2022-01-18T19:37:20.124038",
     "exception": false,
     "start_time": "2022-01-18T19:37:19.882253",
     "status": "completed"
    },
    "tags": []
   },
   "outputs": [
    {
     "data": {
      "text/plain": [
       "<matplotlib.image.AxesImage at 0x7fd8ed7ed3d0>"
      ]
     },
     "execution_count": 27,
     "metadata": {},
     "output_type": "execute_result"
    },
    {
     "data": {
      "image/png": "[encoded data removed]",
      "text/plain": [
       "<Figure size 432x288 with 1 Axes>"
      ]
     },
     "metadata": {
      "needs_background": "light"
     },
     "output_type": "display_data"
    }
   ],
   "source": [
    "# show the augmented image before the correction\n",
    "plt.imshow(aug_unannotated_images[lbl][3])"
   ]
  },
  {
   "cell_type": "code",
   "execution_count": 28,
   "id": "ae8958f7",
   "metadata": {
    "execution": {
     "iopub.execute_input": "2022-01-18T19:37:20.281719Z",
     "iopub.status.busy": "2022-01-18T19:37:20.280900Z",
     "iopub.status.idle": "2022-01-18T19:37:20.372851Z",
     "shell.execute_reply": "2022-01-18T19:37:20.373684Z",
     "shell.execute_reply.started": "2022-01-18T07:17:46.104429Z"
    },
    "papermill": {
     "duration": 0.18388,
     "end_time": "2022-01-18T19:37:20.373850",
     "exception": false,
     "start_time": "2022-01-18T19:37:20.189970",
     "status": "completed"
    },
    "tags": []
   },
   "outputs": [],
   "source": [
    "# rotation by +90 has index = 3 in the list of augmented images from above\n",
    "\n",
    "# for each +90-rotated image, do\n",
    "for lbl, augs in aug_unannotated_images.items():\n",
    "    # for each chemical element coordinate on that image\n",
    "    for idx in range(len(aug_chemical_coordinates[lbl][3])):\n",
    "        # unbundle the coordinatees\n",
    "        x, y, w, h                             = aug_chemical_coordinates[lbl][3][idx]\n",
    "        # re-rotate the chemical element area\n",
    "        chemical_element                       = cv2.rotate(augs[3][y:y+h, x:x+w], cv2.ROTATE_90_COUNTERCLOCKWISE)\n",
    "        # get chemical element area shape\n",
    "        res_width, res_height                  = chemical_element.shape[0], chemical_element.shape[1]\n",
    "        # whiten the original location\n",
    "        augs[3][y:y+h, x:x+w]                  = 255\n",
    "        # re-insert the rotated chemical element\n",
    "        try:\n",
    "            augs[3][y:y+res_width, x:x+res_height] = chemical_element\n",
    "        except:\n",
    "            pass\n",
    "        aug_unannotated_images[lbl][3] = augs[3]"
   ]
  },
  {
   "cell_type": "code",
   "execution_count": 29,
   "id": "a672abce",
   "metadata": {
    "execution": {
     "iopub.execute_input": "2022-01-18T19:37:20.525262Z",
     "iopub.status.busy": "2022-01-18T19:37:20.524476Z",
     "iopub.status.idle": "2022-01-18T19:37:20.746209Z",
     "shell.execute_reply": "2022-01-18T19:37:20.746970Z",
     "shell.execute_reply.started": "2022-01-18T07:17:46.172814Z"
    },
    "papermill": {
     "duration": 0.299524,
     "end_time": "2022-01-18T19:37:20.747159",
     "exception": false,
     "start_time": "2022-01-18T19:37:20.447635",
     "status": "completed"
    },
    "tags": []
   },
   "outputs": [
    {
     "data": {
      "text/plain": [
       "<matplotlib.image.AxesImage at 0x7fd8ed776810>"
      ]
     },
     "execution_count": 29,
     "metadata": {},
     "output_type": "execute_result"
    },
    {
     "data": {
      "image/png": "[encoded data removed]",
      "text/plain": [
       "<Figure size 432x288 with 1 Axes>"
      ]
     },
     "metadata": {
      "needs_background": "light"
     },
     "output_type": "display_data"
    }
   ],
   "source": [
    "# display the example result\n",
    "plt.imshow(aug_unannotated_images[lbl][3])"
   ]
  },
  {
   "cell_type": "markdown",
   "id": "5f9fae38",
   "metadata": {
    "papermill": {
     "duration": 0.047492,
     "end_time": "2022-01-18T19:37:20.868835",
     "exception": false,
     "start_time": "2022-01-18T19:37:20.821343",
     "status": "completed"
    },
    "tags": []
   },
   "source": [
    "#### Correct Rotations by -90 Degrees"
   ]
  },
  {
   "cell_type": "code",
   "execution_count": 30,
   "id": "910b15a1",
   "metadata": {
    "execution": {
     "iopub.execute_input": "2022-01-18T19:37:20.987885Z",
     "iopub.status.busy": "2022-01-18T19:37:20.986704Z",
     "iopub.status.idle": "2022-01-18T19:37:21.164504Z",
     "shell.execute_reply": "2022-01-18T19:37:21.164924Z",
     "shell.execute_reply.started": "2022-01-18T07:17:46.414815Z"
    },
    "papermill": {
     "duration": 0.24928,
     "end_time": "2022-01-18T19:37:21.165078",
     "exception": false,
     "start_time": "2022-01-18T19:37:20.915798",
     "status": "completed"
    },
    "tags": []
   },
   "outputs": [
    {
     "data": {
      "text/plain": [
       "<matplotlib.image.AxesImage at 0x7fd8ed6f8210>"
      ]
     },
     "execution_count": 30,
     "metadata": {},
     "output_type": "execute_result"
    },
    {
     "data": {
      "image/png": "[encoded data removed]",
      "text/plain": [
       "<Figure size 432x288 with 1 Axes>"
      ]
     },
     "metadata": {
      "needs_background": "light"
     },
     "output_type": "display_data"
    }
   ],
   "source": [
    "# show the augmented image before the correction\n",
    "plt.imshow(aug_unannotated_images[lbl][4])"
   ]
  },
  {
   "cell_type": "code",
   "execution_count": 31,
   "id": "a4319e1d",
   "metadata": {
    "execution": {
     "iopub.execute_input": "2022-01-18T19:37:21.265760Z",
     "iopub.status.busy": "2022-01-18T19:37:21.264980Z",
     "iopub.status.idle": "2022-01-18T19:37:21.325793Z",
     "shell.execute_reply": "2022-01-18T19:37:21.325344Z",
     "shell.execute_reply.started": "2022-01-18T07:17:46.692306Z"
    },
    "papermill": {
     "duration": 0.114175,
     "end_time": "2022-01-18T19:37:21.325929",
     "exception": false,
     "start_time": "2022-01-18T19:37:21.211754",
     "status": "completed"
    },
    "tags": []
   },
   "outputs": [],
   "source": [
    "# rotation by -90 has index = 4 in the list of augmented images from above\n",
    "\n",
    "# for each -90-rotated image, do\n",
    "for lbl, augs in aug_unannotated_images.items():\n",
    "    # for each chemical element coordinate on that image\n",
    "    for idx in range(len(aug_chemical_coordinates[lbl][4])):\n",
    "        # unbundle the coordinates\n",
    "        x, y, w, h                             = aug_chemical_coordinates[lbl][4][idx]\n",
    "        # re-rotate the chemical element area\n",
    "        chemical_element                       = cv2.rotate(augs[4][y:y+h, x:x+w], cv2.ROTATE_90_CLOCKWISE)\n",
    "        # get chemical element area shape\n",
    "        res_width, res_height                  = chemical_element.shape[0], chemical_element.shape[1]\n",
    "        # whiten the original location\n",
    "        augs[4][y:y+h, x:x+w]                  = 255\n",
    "        # re-insert the rotated chemical element\n",
    "        try:\n",
    "            augs[4][y:y+res_width, x:x+res_height] = chemical_element\n",
    "        except:\n",
    "            pass\n",
    "        aug_unannotated_images[lbl][4] = augs[4]"
   ]
  },
  {
   "cell_type": "code",
   "execution_count": 32,
   "id": "d2258255",
   "metadata": {
    "execution": {
     "iopub.execute_input": "2022-01-18T19:37:21.443789Z",
     "iopub.status.busy": "2022-01-18T19:37:21.442513Z",
     "iopub.status.idle": "2022-01-18T19:37:21.617474Z",
     "shell.execute_reply": "2022-01-18T19:37:21.617055Z",
     "shell.execute_reply.started": "2022-01-18T07:17:46.796531Z"
    },
    "papermill": {
     "duration": 0.245075,
     "end_time": "2022-01-18T19:37:21.617588",
     "exception": false,
     "start_time": "2022-01-18T19:37:21.372513",
     "status": "completed"
    },
    "tags": []
   },
   "outputs": [
    {
     "data": {
      "text/plain": [
       "<matplotlib.image.AxesImage at 0x7fd8ed66c910>"
      ]
     },
     "execution_count": 32,
     "metadata": {},
     "output_type": "execute_result"
    },
    {
     "data": {
      "image/png": "[encoded data removed]",
      "text/plain": [
       "<Figure size 432x288 with 1 Axes>"
      ]
     },
     "metadata": {
      "needs_background": "light"
     },
     "output_type": "display_data"
    }
   ],
   "source": [
    "# display the example result\n",
    "plt.imshow(aug_unannotated_images[lbl][4])"
   ]
  },
  {
   "cell_type": "markdown",
   "id": "f130ad32",
   "metadata": {
    "papermill": {
     "duration": 0.046801,
     "end_time": "2022-01-18T19:37:21.711318",
     "exception": false,
     "start_time": "2022-01-18T19:37:21.664517",
     "status": "completed"
    },
    "tags": []
   },
   "source": [
    "## Save the Results in a Dataset"
   ]
  },
  {
   "cell_type": "code",
   "execution_count": 33,
   "id": "48de7921",
   "metadata": {
    "execution": {
     "iopub.execute_input": "2022-01-18T19:37:21.810690Z",
     "iopub.status.busy": "2022-01-18T19:37:21.809416Z",
     "iopub.status.idle": "2022-01-18T19:37:26.676999Z",
     "shell.execute_reply": "2022-01-18T19:37:26.676474Z",
     "shell.execute_reply.started": "2022-01-18T07:17:47.047582Z"
    },
    "papermill": {
     "duration": 4.919135,
     "end_time": "2022-01-18T19:37:26.677148",
     "exception": false,
     "start_time": "2022-01-18T19:37:21.758013",
     "status": "completed"
    },
    "tags": []
   },
   "outputs": [],
   "source": [
    "# make a new directory for augmented outputs if doesn't exist\n",
    "path = 'augmentations/'\n",
    "try:\n",
    "    os.mkdir(path)\n",
    "except:\n",
    "    pass\n",
    "\n",
    "# save each augmented image as PNG under that directory\n",
    "for lbl, augs in aug_unannotated_images.items():\n",
    "    idx      = 0\n",
    "    for aug in augs:\n",
    "        cv2.imwrite(path+lbl+f'-aug{idx}.png', aug)\n",
    "        idx += 1"
   ]
  }
 ],
 "metadata": {
  "kernelspec": {
   "display_name": "Python 3",
   "language": "python",
   "name": "python3"
  },
  "language_info": {
   "codemirror_mode": {
    "name": "ipython",
    "version": 3
   },
   "file_extension": ".py",
   "mimetype": "text/x-python",
   "name": "python",
   "nbconvert_exporter": "python",
   "pygments_lexer": "ipython3",
   "version": "3.7.10"
  },
  "papermill": {
   "default_parameters": {},
   "duration": 304.194509,
   "end_time": "2022-01-18T19:37:27.535906",
   "environment_variables": {},
   "exception": null,
   "input_path": "__notebook__.ipynb",
   "output_path": "__notebook__.ipynb",
   "parameters": {},
   "start_time": "2022-01-18T19:32:23.341397",
   "version": "2.3.3"
  }
 },
 "nbformat": 4,
 "nbformat_minor": 5
}
